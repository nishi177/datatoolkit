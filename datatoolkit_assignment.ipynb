{
  "nbformat": 4,
  "nbformat_minor": 0,
  "metadata": {
    "colab": {
      "provenance": []
    },
    "kernelspec": {
      "name": "python3",
      "display_name": "Python 3"
    },
    "language_info": {
      "name": "python"
    }
  },
  "cells": [
    {
      "cell_type": "markdown",
      "source": [
        "1.What is NumPy, and why is it widely used in Python?\n",
        "\n",
        "   NumPy (Numerical Python) is a fundamental library for numerical computing in Python. It provides powerful data structures, primarily the ndarray (N-dimensional array), which allows for efficient storage and manipulation of large datasets.\n",
        "\n",
        "    NumPy is widely used in Python because it provides fast, memory-efficient operations on large datasets using multi-dimensional arrays. Its optimized C-based implementation enables high-performance numerical computations, vectorization eliminates slow Python loops, and it integrates well with libraries like Pandas, SciPy, and TensorFlow.\n",
        "\n",
        "2.How does broadcasting work in NumPy?\n",
        "\n",
        "   Broadcasting in NumPy allows operations between arrays of different shapes by automatically expanding the smaller array’s dimensions to match the larger one without copying data.\n",
        "\n",
        "3.What is a Pandas DataFrame\n",
        "\n",
        "  A Pandas DataFrame is a two-dimensional, tabular data structure in Python, similar to an Excel spreadsheet or SQL table. It consists of rows and columns, where:\n",
        "\n",
        "Rows are indexed (default: 0, 1, 2, …)\n",
        "\n",
        "Columns have labeled names\n",
        "\n",
        "4.Explain the use of the groupby() method in Pandas\n",
        "\n",
        "  The groupby() method in Pandas is used to group data based on one or more columns and then perform aggregations or transformations on each group.\n",
        "\n",
        "5.Why is Seaborn preferred for statistical visualizations\n",
        "\n",
        "  Seaborn is preferred for statistical visualizations because it provides a high-level API that simplifies the creation of complex plots with minimal code. It offers aesthetically pleasing, well-structured visualizations with built-in themes and color palettes, making data interpretation easier. Seaborn integrates seamlessly with Pandas, allowing direct visualization of DataFrames without additional conversions. It also includes advanced statistical charts such as histograms, box plots, pair plots, and heatmaps, which help in analyzing data distributions and relationships. Additionally, Seaborn automatically computes statistical aggregations like means and confidence intervals, making it an excellent choice for exploratory data analysis\n",
        "\n",
        "6.What are the differences between NumPy arrays and Python lists\n",
        "\n",
        "   NumPy arrays and Python lists differ in several key aspects. NumPy arrays are significantly faster because they are implemented in C and use fixed, contiguous memory blocks, making them more memory-efficient. In contrast, Python lists store references to objects, which increases memory usage. NumPy arrays support vectorized operations, allowing element-wise computations without explicit loops, whereas Python lists require loops for similar operations, making them slower. Additionally, NumPy arrays are homogeneous, meaning all elements must be of the same data type, while Python lists can store mixed data types. NumPy also provides built-in mathematical functions, making it more suitable for numerical and scientific computations compared to standard Python lists.\n",
        "\n",
        "7.What is a heatmap, and when should it be used\n",
        "\n",
        "   A heatmap is a data visualization technique that represents values using a color gradient, where different shades or intensities indicate varying data magnitudes. It is commonly used to reveal patterns, correlations, or intensities within a dataset.\n",
        "\n",
        "   A heatmap should be used when you need to visualize patterns, relationships, or intensities within a dataset. It is particularly useful for correlation analysis, where it helps identify relationships between numerical variables in a dataset.\n",
        "\n",
        "8.What does the term “vectorized operation” mean in NumPy\n",
        "\n",
        "   In NumPy, a vectorized operation refers to performing operations on entire arrays without using explicit loops. Instead of iterating element by element, NumPy applies operations directly to the whole array, making computations faster and more efficient by leveraging optimized C-based implementations.\n",
        "\n",
        "9. How does Matplotlib differ from Plotly\n",
        "\n",
        "   Matplotlib is a static plotting library, ideal for simple, customizable visualizations with high control over appearance.\n",
        "\n",
        "  Plotly is an interactive plotting library that allows zooming, hovering, and dynamic visualizations with built-in interactivity.\n",
        "\n",
        "10.What is the significance of hierarchical indexing in Pandas\n",
        "\n",
        "   Hierarchical indexing (also called MultiIndex) allows a Pandas DataFrame or Series to have multiple index levels, enabling more complex and structured data organization.\n",
        "\n",
        "11.What is the role of Seaborn’s pairplot() function\n",
        "   \n",
        "   Seaborn's pairplot() is used to create a grid of scatter plots for pairwise relationships between numerical variables in a dataset. It helps in exploratory data analysis (EDA) by visualizing correlations, distributions, and patterns.\n",
        "\n",
        "\n",
        "12.What is the purpose of the describe() function in Pandas\n",
        "\n",
        "  The describe() function in Pandas provides summary statistics for numerical (or categorical) columns in a DataFrame. It helps in exploratory data analysis (EDA) by giving key insights into data distribution.\n",
        "\n",
        "13. Why is handling missing data important in Pandas\n",
        "\n",
        "   Handling missing data is crucial in Pandas because missing values can lead to biased analysis, incorrect model predictions, and errors in computations. Ignoring missing data can result in misleading conclusions, especially in statistical and machine learning tasks.\n",
        "\n",
        "14.What are the benefits of using Plotly for data visualization\n",
        "\n",
        "  Plotly is a powerful Python library for creating interactive, high-quality visualizations. It is widely used in data analysis, business intelligence, and dashboards.\n",
        "\n",
        "Key Benefits:\n",
        "✅ Interactive Visualizations – Supports zooming, panning, hovering, and tooltips for better data exploration.\n",
        "\n",
        "✅ Wide Range of Charts – Includes bar charts, scatter plots, 3D plots, heatmaps, and more.\n",
        "\n",
        "✅ Web Integration – Works well with web apps using Dash and Jupyter Notebooks.\n",
        "\n",
        "✅ Customization – Highly flexible with options for styling, animations, and annotations.\n",
        "\n",
        "✅ Supports Large Datasets – Efficiently handles large-scale data visualization.\n",
        "\n",
        "\n",
        "15.How does NumPy handle multidimensional arrays\n",
        "\n",
        "  NumPy efficiently handles multidimensional arrays using its ndarray object, which supports operations across multiple axes. It allows for fast computations, reshaping, slicing, and broadcasting of data in multiple dimensions\n",
        "\n",
        "16.What is the role of Bokeh in data visualization\n",
        "\n",
        "   Bokeh is a Python library designed for interactive and web-based visualizations. It is widely used for creating dashboards, real-time analytics, and large-scale data visualizations.\n",
        "\n",
        "\n",
        "17.Explain the difference between apply() and map() in PandasA\n",
        "\n",
        "   Both apply() and map() are used for applying functions to Pandas Series or DataFrames, but they have different use cases.\n",
        "\n",
        "1. map() – Works on Series (Single Column)\n",
        "Used only on Pandas Series (single column).\n",
        "\n",
        "Works with functions, dictionaries, or lambda expressions.\n",
        "\n",
        "Returns a transformed Series.\n",
        "\n",
        "\n",
        "2. apply() – Works on Series and DataFrames\n",
        "Works on both Series (column-wise) and DataFrames (row/column-wise).\n",
        "\n",
        "Can apply functions to entire rows or columns using axis parameter.\n",
        "\n",
        "19.What is the importance of closing a file in Python\n",
        "\n",
        "   Closing a file in Python is important to ensure proper resource management and data integrity. When a file is opened, the operating system allocates resources to handle it, and failing to close the file can lead to memory leaks or file corruption. Closing a file ensures that all written data is properly saved to disk, preventing data loss or incomplete writes. It also allows other programs or processes to access the file, as some files remain locked until they are closed. A best practice is to use the with open() statement, which automatically closes the file after execution, eliminating the need for manual closure and reducing the risk of errors\n",
        "\n",
        "20.What is the difference between file.read() and file.readline() in Python\n",
        "\n",
        "  Both file.read() and file.readline() are used to read data from a file, but they work differently.\n",
        "\n",
        "file.read(size) reads the entire file as a single string if no size is specified, or up to size characters if given.\n",
        "\n",
        "file.readline() reads one line at a time from the file and returns it as a string.\n",
        "\n",
        "21.What is the logging module in Python used for?\n",
        "\n",
        "   The logging module in Python is used for tracking events, debugging, and recording important runtime information in applications. It helps developers monitor code execution, detect errors, and analyze system behavior without using excessive print() statements.\n",
        "\n",
        "22. What is the os module in Python used for in file handling\n",
        "\n",
        "   The os module in Python provides functions for interacting with the operating system, making it useful for file and directory management. It allows users to create, delete, move, and check file properties, as well as navigate directories.\n",
        "\n",
        "23. What are the challenges associated with memory management in Python\n",
        "\n",
        "   Python handles memory automatically, but challenges include memory leaks, circular references, high memory usage, and Global Interpreter Lock (GIL). Inefficient data structures and poor memory optimization can increase consumption. Best practices like using generators, deleting unused objects, and optimizing data structures help manage memory efficiently.\n",
        "\n",
        "24. How do you raise an exception manually in Python\n",
        "\n",
        "   In Python, exceptions are used to handle errors and unexpected situations. The raise keyword allows programmers to manually trigger an exception when a specific condition occurs. This is useful for enforcing rules, validating inputs, and preventing invalid operations.\n",
        "\n",
        "When an exception is raised, the normal execution of the program stops, and Python looks for an appropriate except block to handle it. If no handling is provided, the program will terminate with an error message\n",
        "\n",
        "25.Why is it important to use multithreading in certain applications\n",
        "\n",
        "  Multithreading is crucial for applications that require concurrent execution of tasks to improve performance and responsiveness. It allows multiple threads to run simultaneously within the same process, enabling efficient use of system resources.\n",
        "  \n"
      ],
      "metadata": {
        "id": "UyNiakg7b6lF"
      }
    },
    {
      "cell_type": "markdown",
      "source": [
        "1. How can you open a file for writing in Python and write a string to it"
      ],
      "metadata": {
        "id": "99gPBtcnmfd3"
      }
    },
    {
      "cell_type": "code",
      "source": [
        "file = open(\"filename.txt\", \"w\")  # \"w\" mode opens the file for writing\n",
        "file.write(\"Your text here\")  # Writing a string to the file\n",
        "file.close()  # Closing the file\n",
        "\n",
        "# Using with open() (Best Practice)\n",
        "with open(\"filename.txt\", \"w\") as file:\n",
        "    file.write(\"Your text here\")  # Writing a string to the file"
      ],
      "metadata": {
        "id": "8MOGfsbsmmap"
      },
      "execution_count": null,
      "outputs": []
    },
    {
      "cell_type": "markdown",
      "source": [
        "2. Write a Python program to read the contents of a file and print each line"
      ],
      "metadata": {
        "id": "C9FGpZHgnftC"
      }
    },
    {
      "cell_type": "code",
      "source": [
        "with open(\"example.txt\", \"r\") as file:\n",
        "    for line in file:\n",
        "        print(line.strip())  # strip() removes extra newline characters\n",
        "file = open(\"example.txt\", \"r\")\n",
        "lines = file.readlines()  # Reads all lines into a list\n",
        "\n",
        "for line in lines:\n",
        "    print(line.strip())\n",
        "\n",
        "file.close()  # Close the file"
      ],
      "metadata": {
        "colab": {
          "base_uri": "https://localhost:8080/"
        },
        "id": "h9-oEFZBoBaK",
        "outputId": "4068a9c4-d8e8-4064-bc15-bac3dc840fad"
      },
      "execution_count": null,
      "outputs": [
        {
          "output_type": "stream",
          "name": "stdout",
          "text": [
            "Hello, this is a sample text!\n",
            "Hello, this is a sample text!\n"
          ]
        }
      ]
    },
    {
      "cell_type": "markdown",
      "source": [
        "3.How would you handle a case where the file doesn't exist while trying to open it for reading"
      ],
      "metadata": {
        "id": "_97tW0_IobSm"
      }
    },
    {
      "cell_type": "code",
      "source": [
        "try:\n",
        "    with open(\"example.txt\", \"r\") as file:\n",
        "        for line in file:\n",
        "            print(line.strip())  # Read and print each line\n",
        "except FileNotFoundError:\n",
        "    print(\"Error: The file does not exist. Please check the file name and path.\")"
      ],
      "metadata": {
        "colab": {
          "base_uri": "https://localhost:8080/"
        },
        "id": "kUYznVCPo4OJ",
        "outputId": "0ea02e82-483a-467d-dc49-b7d819371cf5"
      },
      "execution_count": null,
      "outputs": [
        {
          "output_type": "stream",
          "name": "stdout",
          "text": [
            "Hello, this is a sample text!\n"
          ]
        }
      ]
    },
    {
      "cell_type": "markdown",
      "source": [
        "4.Write a Python script that reads from one file and writes its content to another file"
      ],
      "metadata": {
        "id": "azfIx2t6qsJE"
      }
    },
    {
      "cell_type": "code",
      "source": [
        "with open(\"source.txt\", \"r\") as source, open(\"destination.txt\", \"w\") as destination:\n",
        "    for line in source:\n",
        "        destination.write(line)  # Write each line from source to destination\n",
        "\n",
        "print(\"File copied successfully!\")\n"
      ],
      "metadata": {
        "colab": {
          "base_uri": "https://localhost:8080/",
          "height": 211
        },
        "id": "Y49KgekKrAFV",
        "outputId": "ee1efaa5-3bf4-4644-dd8e-5134e8e24773"
      },
      "execution_count": null,
      "outputs": [
        {
          "output_type": "error",
          "ename": "FileNotFoundError",
          "evalue": "[Errno 2] No such file or directory: 'source.txt'",
          "traceback": [
            "\u001b[0;31m---------------------------------------------------------------------------\u001b[0m",
            "\u001b[0;31mFileNotFoundError\u001b[0m                         Traceback (most recent call last)",
            "\u001b[0;32m<ipython-input-11-2ba99118982f>\u001b[0m in \u001b[0;36m<cell line: 0>\u001b[0;34m()\u001b[0m\n\u001b[0;32m----> 1\u001b[0;31m \u001b[0;32mwith\u001b[0m \u001b[0mopen\u001b[0m\u001b[0;34m(\u001b[0m\u001b[0;34m\"source.txt\"\u001b[0m\u001b[0;34m,\u001b[0m \u001b[0;34m\"r\"\u001b[0m\u001b[0;34m)\u001b[0m \u001b[0;32mas\u001b[0m \u001b[0msource\u001b[0m\u001b[0;34m,\u001b[0m \u001b[0mopen\u001b[0m\u001b[0;34m(\u001b[0m\u001b[0;34m\"destination.txt\"\u001b[0m\u001b[0;34m,\u001b[0m \u001b[0;34m\"w\"\u001b[0m\u001b[0;34m)\u001b[0m \u001b[0;32mas\u001b[0m \u001b[0mdestination\u001b[0m\u001b[0;34m:\u001b[0m\u001b[0;34m\u001b[0m\u001b[0;34m\u001b[0m\u001b[0m\n\u001b[0m\u001b[1;32m      2\u001b[0m     \u001b[0;32mfor\u001b[0m \u001b[0mline\u001b[0m \u001b[0;32min\u001b[0m \u001b[0msource\u001b[0m\u001b[0;34m:\u001b[0m\u001b[0;34m\u001b[0m\u001b[0;34m\u001b[0m\u001b[0m\n\u001b[1;32m      3\u001b[0m         \u001b[0mdestination\u001b[0m\u001b[0;34m.\u001b[0m\u001b[0mwrite\u001b[0m\u001b[0;34m(\u001b[0m\u001b[0mline\u001b[0m\u001b[0;34m)\u001b[0m  \u001b[0;31m# Write each line from source to destination\u001b[0m\u001b[0;34m\u001b[0m\u001b[0;34m\u001b[0m\u001b[0m\n\u001b[1;32m      4\u001b[0m \u001b[0;34m\u001b[0m\u001b[0m\n\u001b[1;32m      5\u001b[0m \u001b[0mprint\u001b[0m\u001b[0;34m(\u001b[0m\u001b[0;34m\"File copied successfully!\"\u001b[0m\u001b[0;34m)\u001b[0m\u001b[0;34m\u001b[0m\u001b[0;34m\u001b[0m\u001b[0m\n",
            "\u001b[0;31mFileNotFoundError\u001b[0m: [Errno 2] No such file or directory: 'source.txt'"
          ]
        }
      ]
    },
    {
      "cell_type": "markdown",
      "source": [
        "5.How would you catch and handle division by zero error in Python"
      ],
      "metadata": {
        "id": "oLMB_Vv_rKZ0"
      }
    },
    {
      "cell_type": "code",
      "source": [
        "try:\n",
        "    num = int(input(\"Enter a number: \"))\n",
        "    result = num / 0  # This will raise ZeroDivisionError\n",
        "except ZeroDivisionError:\n",
        "    print(\"Error: Division by zero is not allowed!\")"
      ],
      "metadata": {
        "colab": {
          "base_uri": "https://localhost:8080/"
        },
        "id": "lSqtA6UMroUk",
        "outputId": "919872d6-396f-4917-9bc1-1a892667e922"
      },
      "execution_count": null,
      "outputs": [
        {
          "output_type": "stream",
          "name": "stdout",
          "text": [
            "Enter a number: 0\n",
            "Error: Division by zero is not allowed!\n"
          ]
        }
      ]
    },
    {
      "cell_type": "markdown",
      "source": [],
      "metadata": {
        "id": "ImTk6s-vsNYx"
      }
    },
    {
      "cell_type": "markdown",
      "source": [
        "6.Write a Python program that logs an error message to a log file when a division by zero exception occursF"
      ],
      "metadata": {
        "id": "qy6vOiZUz8wL"
      }
    },
    {
      "cell_type": "code",
      "source": [
        "import logging\n",
        "\n",
        "# Configure logging to write errors to a file\n",
        "logging.basicConfig(filename=\"error.log\", level=logging.ERROR,\n",
        "                    format=\"%(asctime)s - %(levelname)s - %(message)s\")\n",
        "\n",
        "def safe_divide(a, b):\n",
        "    try:\n",
        "        return a / b\n",
        "    except ZeroDivisionError:\n",
        "        logging.error(\"Division by zero attempted.\")  # Log error\n",
        "        return \"Error: Cannot divide by zero!\"\n",
        "\n",
        "# Example usage\n",
        "result = safe_divide(10, 0)\n",
        "print(result)  # Output: Error message\n"
      ],
      "metadata": {
        "colab": {
          "base_uri": "https://localhost:8080/"
        },
        "id": "Y7aeinQ-0EnY",
        "outputId": "de01739c-b74d-467b-ee81-6ed91cf51d16"
      },
      "execution_count": 1,
      "outputs": [
        {
          "output_type": "stream",
          "name": "stderr",
          "text": [
            "ERROR:root:Division by zero attempted.\n"
          ]
        },
        {
          "output_type": "stream",
          "name": "stdout",
          "text": [
            "Error: Cannot divide by zero!\n"
          ]
        }
      ]
    },
    {
      "cell_type": "markdown",
      "source": [
        "7.F How do you log information at different levels (INFO, ERROR, WARNING) in Python using the logging module"
      ],
      "metadata": {
        "id": "6RAa79bZ0SnA"
      }
    },
    {
      "cell_type": "code",
      "source": [
        "# Configure logging\n",
        "logging.basicConfig(filename=\"app.log\", level=logging.DEBUG,\n",
        "                    format=\"%(asctime)s - %(levelname)s - %(message)s\")\n",
        "\n",
        "# Log messages at different levels\n",
        "logging.debug(\"This is a debug message (for development purposes).\")\n",
        "logging.info(\"This is an info message (general information).\")\n",
        "logging.warning(\"This is a warning message (something might be wrong).\")\n",
        "logging.error(\"This is an error message (something went wrong).\")\n",
        "logging.critical(\"This is a critical message (serious failure).\")\n",
        "\n",
        "print(\"Logs have been recorded in 'app.log'\")\n"
      ],
      "metadata": {
        "colab": {
          "base_uri": "https://localhost:8080/"
        },
        "id": "PNJZH6Hw0W59",
        "outputId": "0bf333dc-f1f1-4453-a6f0-f4abb304ebb0"
      },
      "execution_count": 2,
      "outputs": [
        {
          "output_type": "stream",
          "name": "stderr",
          "text": [
            "WARNING:root:This is a warning message (something might be wrong).\n",
            "ERROR:root:This is an error message (something went wrong).\n",
            "CRITICAL:root:This is a critical message (serious failure).\n"
          ]
        },
        {
          "output_type": "stream",
          "name": "stdout",
          "text": [
            "Logs have been recorded in 'app.log'\n"
          ]
        }
      ]
    },
    {
      "cell_type": "code",
      "source": [
        "8.Write a program to handle a file opening error using exception handling"
      ],
      "metadata": {
        "id": "XuDgBJAp0gD6"
      },
      "execution_count": null,
      "outputs": []
    },
    {
      "cell_type": "code",
      "source": [
        "try:\n",
        "    # Attempt to open a non-existing file\n",
        "    with open(\"non_existent_file.txt\", \"r\") as file:\n",
        "        content = file.read()\n",
        "        print(content)\n",
        "except FileNotFoundError:\n",
        "    print(\"Error: The file does not exist. Please check the filename or path.\")\n",
        "except PermissionError:\n",
        "    print(\"Error: Permission denied. Check file permissions.\")\n",
        "except Exception as e:\n",
        "    print(f\"An unexpected error occurred: {e}\")\n"
      ],
      "metadata": {
        "colab": {
          "base_uri": "https://localhost:8080/"
        },
        "id": "1ewWTPAc0kl-",
        "outputId": "8fa98ea2-f350-4e43-ff64-80bab6b8b856"
      },
      "execution_count": 3,
      "outputs": [
        {
          "output_type": "stream",
          "name": "stdout",
          "text": [
            "Error: The file does not exist. Please check the filename or path.\n"
          ]
        }
      ]
    },
    {
      "cell_type": "markdown",
      "source": [
        "9.How can you read a file line by line and store its content in a list in Python"
      ],
      "metadata": {
        "id": "jdm77I9W0sop"
      }
    },
    {
      "cell_type": "code",
      "source": [
        "try:\n",
        "    with open(\"example.txt\", \"r\") as file:\n",
        "        lines = file.readlines()  # Reads all lines into a list\n",
        "    print(lines)\n",
        "except FileNotFoundError:\n",
        "    print(\"Error: The file 'example.txt' was not found. Please check the file path or create the file.\")"
      ],
      "metadata": {
        "colab": {
          "base_uri": "https://localhost:8080/"
        },
        "id": "veYXj8z91MjX",
        "outputId": "adf5880c-3f3f-4920-d964-dfb04c425876"
      },
      "execution_count": 5,
      "outputs": [
        {
          "output_type": "stream",
          "name": "stdout",
          "text": [
            "Error: The file 'example.txt' was not found. Please check the file path or create the file.\n"
          ]
        }
      ]
    },
    {
      "cell_type": "markdown",
      "source": [
        "10. How can you append data to an existing file in Python"
      ],
      "metadata": {
        "id": "H-LplepT1RAN"
      }
    },
    {
      "cell_type": "code",
      "source": [
        "# Open the file in append mode\n",
        "with open(\"example.txt\", \"a\") as file:\n",
        "    file.write(\"\\nThis is a new line appended to the file.\")\n",
        "\n",
        "print(\"Data appended successfully!\")"
      ],
      "metadata": {
        "colab": {
          "base_uri": "https://localhost:8080/"
        },
        "id": "dNpq1zVe1gpd",
        "outputId": "149e990f-de10-49c5-afc0-b136da659fe4"
      },
      "execution_count": 6,
      "outputs": [
        {
          "output_type": "stream",
          "name": "stdout",
          "text": [
            "Data appended successfully!\n"
          ]
        }
      ]
    },
    {
      "cell_type": "markdown",
      "source": [
        "11.Write a Python program that uses a try-except block to handle an error when attempting to access a\n",
        "dictionary key that doesn't existF"
      ],
      "metadata": {
        "id": "PCCezems1nx_"
      }
    },
    {
      "cell_type": "code",
      "source": [
        "# Sample dictionary\n",
        "student_scores = {\"Alice\": 85, \"Bob\": 90, \"Charlie\": 78}\n",
        "\n",
        "try:\n",
        "    # Attempt to access a non-existent key\n",
        "    score = student_scores[\"David\"]\n",
        "    print(f\"David's score: {score}\")\n",
        "except KeyError:\n",
        "    print(\"Error: The key does not exist in the dictionary.\")"
      ],
      "metadata": {
        "colab": {
          "base_uri": "https://localhost:8080/"
        },
        "id": "kPf9q7NN1veT",
        "outputId": "4cbd31e4-c17a-4154-cf0d-eb72311fc572"
      },
      "execution_count": 7,
      "outputs": [
        {
          "output_type": "stream",
          "name": "stdout",
          "text": [
            "Error: The key does not exist in the dictionary.\n"
          ]
        }
      ]
    },
    {
      "cell_type": "markdown",
      "source": [
        "12.F Write a program that demonstrates using multiple except blocks to handle different types of exceptionsF"
      ],
      "metadata": {
        "id": "NVtXF2h414rE"
      }
    },
    {
      "cell_type": "code",
      "source": [
        "try:\n",
        "    # Take two inputs from the user\n",
        "    num1 = int(input(\"Enter the first number: \"))\n",
        "    num2 = int(input(\"Enter the second number: \"))\n",
        "\n",
        "    # Perform division\n",
        "    result = num1 / num2\n",
        "\n",
        "    # Access an index in a list\n",
        "    my_list = [1, 2, 3]\n",
        "    print(my_list[5])  # IndexError\n",
        "\n",
        "except ValueError:\n",
        "    print(\"Error: Invalid input! Please enter numeric values.\")\n",
        "except ZeroDivisionError:\n",
        "    print(\"Error: Division by zero is not allowed!\")\n",
        "except IndexError:\n",
        "    print(\"Error: List index out of range!\")\n",
        "except Exception as e:\n",
        "    print(f\"An unexpected error occurred: {e}\")\n",
        "\n",
        "print(\"Program execution continues...\")\n"
      ],
      "metadata": {
        "colab": {
          "base_uri": "https://localhost:8080/"
        },
        "id": "74HL1rPM19Ox",
        "outputId": "3f2be3ec-d60e-4e91-d4fe-189dbf556512"
      },
      "execution_count": 8,
      "outputs": [
        {
          "output_type": "stream",
          "name": "stdout",
          "text": [
            "Enter the first number: 7\n",
            "Enter the second number: 9\n",
            "Error: List index out of range!\n",
            "Program execution continues...\n"
          ]
        }
      ]
    },
    {
      "cell_type": "markdown",
      "source": [],
      "metadata": {
        "id": "EUYJWYK_2G_v"
      }
    },
    {
      "cell_type": "markdown",
      "source": [
        "13.How would you check if a file exists before attempting to read it in Python\u001f\n"
      ],
      "metadata": {
        "id": "dZXFuMji2HUE"
      }
    },
    {
      "cell_type": "code",
      "source": [
        "import os\n",
        "\n",
        "file_path = \"example.txt\"\n",
        "\n",
        "if os.path.exists(file_path):\n",
        "    with open(file_path, \"r\") as file:\n",
        "        content = file.read()\n",
        "        print(content)\n",
        "else:\n",
        "    print(\"File does not exist.\")"
      ],
      "metadata": {
        "colab": {
          "base_uri": "https://localhost:8080/"
        },
        "id": "muo8QSF52LFo",
        "outputId": "0a7ecd85-09b1-48b3-f1e4-e54383910105"
      },
      "execution_count": 9,
      "outputs": [
        {
          "output_type": "stream",
          "name": "stdout",
          "text": [
            "\n",
            "This is a new line appended to the file.\n"
          ]
        }
      ]
    },
    {
      "cell_type": "markdown",
      "source": [
        "14.Write a program that uses the logging module to log both informational and error message"
      ],
      "metadata": {
        "id": "9bJrCr0u5EeH"
      }
    },
    {
      "cell_type": "code",
      "source": [
        "import logging\n",
        "\n",
        "# Configure logging\n",
        "logging.basicConfig(\n",
        "    filename=\"app.log\",  # Log file\n",
        "    level=logging.DEBUG,  # Log level\n",
        "    format=\"%(asctime)s - %(levelname)s - %(message)s\",  # Log format\n",
        ")\n",
        "\n",
        "# Example log messages\n",
        "logging.info(\"This is an informational message.\")\n",
        "logging.error(\"This is an error message.\")\n",
        "\n",
        "# Simulate an error in a try-except block\n",
        "try:\n",
        "    result = 10 / 0\n",
        "except ZeroDivisionError as e:\n",
        "    logging.exception(\"An exception occurred: \")\n",
        "\n",
        "print(\"Logging complete. Check 'app.log' for details.\")"
      ],
      "metadata": {
        "colab": {
          "base_uri": "https://localhost:8080/"
        },
        "id": "5edXkz4W5JFQ",
        "outputId": "398dc1e6-1aef-4f5f-e373-df14f1f1da85"
      },
      "execution_count": 10,
      "outputs": [
        {
          "output_type": "stream",
          "name": "stderr",
          "text": [
            "ERROR:root:This is an error message.\n",
            "ERROR:root:An exception occurred: \n",
            "Traceback (most recent call last):\n",
            "  File \"<ipython-input-10-c242ce0d13a5>\", line 16, in <cell line: 0>\n",
            "    result = 10 / 0\n",
            "             ~~~^~~\n",
            "ZeroDivisionError: division by zero\n"
          ]
        },
        {
          "output_type": "stream",
          "name": "stdout",
          "text": [
            "Logging complete. Check 'app.log' for details.\n"
          ]
        }
      ]
    },
    {
      "cell_type": "markdown",
      "source": [
        "15. Write a Python program that prints the content of a file and handles the case when the file is empty"
      ],
      "metadata": {
        "id": "hWg9S9u65Pwe"
      }
    },
    {
      "cell_type": "code",
      "source": [
        "def print_file_content(file_path):\n",
        "    try:\n",
        "        with open(file_path, 'r') as file:\n",
        "            content = file.read()\n",
        "            if content:\n",
        "                print(\"File Content:\")\n",
        "                print(content)\n",
        "            else:\n",
        "                print(\"The file is empty.\")\n",
        "    except FileNotFoundError:\n",
        "        print(\"Error: The file was not found.\")\n",
        "    except Exception as e:\n",
        "        print(f\"An error occurred: {e}\")\n",
        "\n",
        "# Example usage\n",
        "file_path = \"example.txt\"  # Change this to the path of your file\n",
        "print_file_content(file_path)\n"
      ],
      "metadata": {
        "colab": {
          "base_uri": "https://localhost:8080/"
        },
        "id": "NQsyMdjX533G",
        "outputId": "e9bb1643-3aab-4406-cc22-62a7ac34e975"
      },
      "execution_count": 13,
      "outputs": [
        {
          "output_type": "stream",
          "name": "stdout",
          "text": [
            "File Content:\n",
            "\n",
            "This is a new line appended to the file.\n"
          ]
        }
      ]
    },
    {
      "cell_type": "markdown",
      "source": [
        "16.Demonstrate how to use memory profiling to check the memory usage of a small program"
      ],
      "metadata": {
        "id": "1-0z_RM36gDw"
      }
    },
    {
      "cell_type": "code",
      "source": [
        "from memory_profiler import profile\n",
        "\n",
        "@profile\n",
        "def allocate_list():\n",
        "    # Create a large list\n",
        "    data = [i for i in range(10**6)]\n",
        "    return data\n",
        "\n",
        "if __name__ == \"__main__\":\n",
        "    allocate_list()"
      ],
      "metadata": {
        "colab": {
          "base_uri": "https://localhost:8080/",
          "height": 383
        },
        "id": "IeAsyoIi6-I2",
        "outputId": "00f19d58-f5dd-4241-8e48-fe34eeac42c0"
      },
      "execution_count": 15,
      "outputs": [
        {
          "output_type": "error",
          "ename": "ModuleNotFoundError",
          "evalue": "No module named 'memory_profiler'",
          "traceback": [
            "\u001b[0;31m---------------------------------------------------------------------------\u001b[0m",
            "\u001b[0;31mModuleNotFoundError\u001b[0m                       Traceback (most recent call last)",
            "\u001b[0;32m<ipython-input-15-140e92dadaa6>\u001b[0m in \u001b[0;36m<cell line: 0>\u001b[0;34m()\u001b[0m\n\u001b[0;32m----> 1\u001b[0;31m \u001b[0;32mfrom\u001b[0m \u001b[0mmemory_profiler\u001b[0m \u001b[0;32mimport\u001b[0m \u001b[0mprofile\u001b[0m\u001b[0;34m\u001b[0m\u001b[0;34m\u001b[0m\u001b[0m\n\u001b[0m\u001b[1;32m      2\u001b[0m \u001b[0;34m\u001b[0m\u001b[0m\n\u001b[1;32m      3\u001b[0m \u001b[0;34m@\u001b[0m\u001b[0mprofile\u001b[0m\u001b[0;34m\u001b[0m\u001b[0;34m\u001b[0m\u001b[0m\n\u001b[1;32m      4\u001b[0m \u001b[0;32mdef\u001b[0m \u001b[0mallocate_list\u001b[0m\u001b[0;34m(\u001b[0m\u001b[0;34m)\u001b[0m\u001b[0;34m:\u001b[0m\u001b[0;34m\u001b[0m\u001b[0;34m\u001b[0m\u001b[0m\n\u001b[1;32m      5\u001b[0m     \u001b[0;31m# Create a large list\u001b[0m\u001b[0;34m\u001b[0m\u001b[0;34m\u001b[0m\u001b[0m\n",
            "\u001b[0;31mModuleNotFoundError\u001b[0m: No module named 'memory_profiler'",
            "",
            "\u001b[0;31m---------------------------------------------------------------------------\u001b[0;32m\nNOTE: If your import is failing due to a missing package, you can\nmanually install dependencies using either !pip or !apt.\n\nTo view examples of installing some common dependencies, click the\n\"Open Examples\" button below.\n\u001b[0;31m---------------------------------------------------------------------------\u001b[0m\n"
          ],
          "errorDetails": {
            "actions": [
              {
                "action": "open_url",
                "actionText": "Open Examples",
                "url": "/notebooks/snippets/importing_libraries.ipynb"
              }
            ]
          }
        }
      ]
    },
    {
      "cell_type": "markdown",
      "source": [
        "17.Write a Python program to create and write a list of numbers to a file, one number per lineF"
      ],
      "metadata": {
        "id": "usP68Ghg7EBh"
      }
    },
    {
      "cell_type": "code",
      "source": [
        "def write_numbers_to_file(file_path, numbers):\n",
        "    try:\n",
        "        with open(file_path, 'w') as file:\n",
        "            for number in numbers:\n",
        "                file.write(f\"{number}\\n\")\n",
        "        print(\"Numbers written to file successfully.\")\n",
        "    except Exception as e:\n",
        "        print(f\"An error occurred: {e}\")\n",
        "\n",
        "# Example usage\n",
        "file_path = \"numbers.txt\"  # Change this to your desired file path\n",
        "numbers = list(range(1, 11))  # List of numbers from 1 to 10\n",
        "write_numbers_to_file(file_path, numbers)\n"
      ],
      "metadata": {
        "colab": {
          "base_uri": "https://localhost:8080/"
        },
        "id": "Ocr4yFxZ7KoU",
        "outputId": "6e3dd956-ee89-4117-bafa-baf06ddc1d4f"
      },
      "execution_count": 16,
      "outputs": [
        {
          "output_type": "stream",
          "name": "stdout",
          "text": [
            "Numbers written to file successfully.\n"
          ]
        }
      ]
    },
    {
      "cell_type": "markdown",
      "source": [
        "18. How would you implement a basic logging setup that logs to a file with rotation after 1MB"
      ],
      "metadata": {
        "id": "KVqKWBqa7ZC9"
      }
    },
    {
      "cell_type": "code",
      "source": [
        "import logging\n",
        "from logging.handlers import RotatingFileHandler\n",
        "\n",
        "# Setup logging\n",
        "log_file = \"app.log\"\n",
        "log_handler = RotatingFileHandler(log_file, maxBytes=1_000_000, backupCount=3)\n",
        "logging.basicConfig(\n",
        "    level=logging.INFO,\n",
        "    format=\"%(asctime)s - %(levelname)s - %(message)s\",\n",
        "    handlers=[log_handler]\n",
        ")\n",
        "\n",
        "def write_numbers_to_file(file_path, numbers):\n",
        "    try:\n",
        "        with open(file_path, 'w') as file:\n",
        "            for number in numbers:\n",
        "                file.write(f\"{number}\\n\")\n",
        "        logging.info(\"Numbers written to file successfully.\")\n",
        "    except Exception as e:\n",
        "        logging.error(f\"An error occurred: {e}\")\n",
        "\n",
        "# Example usage\n",
        "file_path = \"numbers.txt\"  # Change this to your desired file path\n",
        "numbers = list(range(1, 11))  # List of numbers from 1 to 10\n",
        "write_numbers_to_file(file_path, numbers)\n"
      ],
      "metadata": {
        "id": "0IcmwdPZ7el6"
      },
      "execution_count": 17,
      "outputs": []
    },
    {
      "cell_type": "markdown",
      "source": [
        "19.Write a program that handles both IndexError and KeyError using a try-except block"
      ],
      "metadata": {
        "id": "vjphhPPc7njq"
      }
    },
    {
      "cell_type": "code",
      "source": [
        "import logging\n",
        "from logging.handlers import RotatingFileHandler\n",
        "\n",
        "# Setup logging\n",
        "log_file = \"app.log\"\n",
        "log_handler = RotatingFileHandler(log_file, maxBytes=1_000_000, backupCount=3)\n",
        "logging.basicConfig(\n",
        "    level=logging.INFO,\n",
        "    format=\"%(asctime)s - %(levelname)s - %(message)s\",\n",
        "    handlers=[log_handler]\n",
        ")\n",
        "\n",
        "def handle_exceptions():\n",
        "    try:\n",
        "        # List example (IndexError)\n",
        "        numbers = [1, 2, 3]\n",
        "        print(numbers[5])  # This will raise an IndexError\n",
        "\n",
        "        # Dictionary example (KeyError)\n",
        "        data = {\"a\": 10, \"b\": 20}\n",
        "        print(data[\"c\"])  # This will raise a KeyError\n",
        "    except IndexError:\n",
        "        logging.error(\"IndexError: Attempted to access an invalid index in the list.\")\n",
        "        print(\"Error: List index out of range.\")\n",
        "    except KeyError:\n",
        "        logging.error(\"KeyError: Attempted to access a non-existent key in the dictionary.\")\n",
        "        print(\"Error: Key not found in the dictionary.\")\n",
        "\n",
        "# Run the function\n",
        "handle_exceptions()\n"
      ],
      "metadata": {
        "colab": {
          "base_uri": "https://localhost:8080/"
        },
        "id": "nnfrwNLk7tKU",
        "outputId": "2bc086e7-4927-4803-8eb1-a4f4009412bd"
      },
      "execution_count": 18,
      "outputs": [
        {
          "output_type": "stream",
          "name": "stderr",
          "text": [
            "ERROR:root:IndexError: Attempted to access an invalid index in the list.\n"
          ]
        },
        {
          "output_type": "stream",
          "name": "stdout",
          "text": [
            "Error: List index out of range.\n"
          ]
        }
      ]
    },
    {
      "cell_type": "markdown",
      "source": [
        "20.How would you open a file and read its contents using a context manager in Python"
      ],
      "metadata": {
        "id": "UqVznPPb73j7"
      }
    },
    {
      "cell_type": "code",
      "source": [
        "def read_file(file_path):\n",
        "    try:\n",
        "        with open(file_path, 'r') as file:\n",
        "            content = file.read()\n",
        "            print(\"File Content:\\n\", content)\n",
        "    except FileNotFoundError:\n",
        "        print(\"Error: The file was not found.\")\n",
        "    except Exception as e:\n",
        "        print(f\"An error occurred: {e}\")\n"
      ],
      "metadata": {
        "id": "R2IvLStB7_v3"
      },
      "execution_count": 19,
      "outputs": []
    },
    {
      "cell_type": "markdown",
      "source": [
        "21.Write a Python program that reads a file and prints the number of occurrences of a specific word"
      ],
      "metadata": {
        "id": "u2HA-OXP8Pm5"
      }
    },
    {
      "cell_type": "code",
      "source": [
        "import logging\n",
        "from logging.handlers import RotatingFileHandler\n",
        "\n",
        "def count_word_occurrences(file_path, word):\n",
        "    try:\n",
        "        with open(file_path, 'r') as file:\n",
        "            content = file.read()\n",
        "            count = content.lower().split().count(word.lower())\n",
        "            print(f\"The word '{word}' appears {count} times in the file.\")\n",
        "            logging.info(f\"Counted {count} occurrences of the word '{word}' in {file_path}.\")\n",
        "    except FileNotFoundError:\n",
        "        logging.error(\"Error: The file was not found.\")\n",
        "        print(\"Error: The file was not found.\")\n",
        "    except Exception as e:\n",
        "        logging.error(f\"An error occurred: {e}\")\n",
        "        print(f\"An error occurred: {e}\")\n",
        "\n",
        "# Setup logging\n",
        "log_file = \"app.log\"\n",
        "log_handler = RotatingFileHandler(log_file, maxBytes=1_000_000, backupCount=3)\n",
        "logging.basicConfig(\n",
        "    level=logging.INFO,\n",
        "    format=\"%(asctime)s - %(levelname)s - %(message)s\",\n",
        "    handlers=[log_handler]\n",
        ")\n",
        "\n",
        "# Example usage\n",
        "file_path = \"example.txt\"  # Change this to your desired file path\n",
        "word = \"example\"  # Change this to the word you want to count\n",
        "count_word_occurrences(file_path, word)\n"
      ],
      "metadata": {
        "colab": {
          "base_uri": "https://localhost:8080/"
        },
        "id": "u6EYA6VU8ZpA",
        "outputId": "4c5dc8da-b17c-4ca0-abea-660a4c3a9562"
      },
      "execution_count": 20,
      "outputs": [
        {
          "output_type": "stream",
          "name": "stdout",
          "text": [
            "The word 'example' appears 0 times in the file.\n"
          ]
        }
      ]
    },
    {
      "cell_type": "markdown",
      "source": [
        "22.How can you check if a file is empty before attempting to read its contents"
      ],
      "metadata": {
        "id": "kRBpQv0n8sKq"
      }
    },
    {
      "cell_type": "code",
      "source": [
        "import os\n",
        "\n",
        "def is_file_empty(file_path):\n",
        "    return os.path.getsize(file_path) == 0\n",
        "\n",
        "file_path = \"example.txt\"\n",
        "\n",
        "if is_file_empty(file_path):\n",
        "    print(\"The file is empty.\")\n",
        "else:\n",
        "    with open(file_path, 'r') as file:\n",
        "        content = file.read()\n",
        "        print(\"File Content:\\n\", content)"
      ],
      "metadata": {
        "colab": {
          "base_uri": "https://localhost:8080/"
        },
        "id": "3rlwFZO_8xc6",
        "outputId": "55480fca-d72f-45a0-c94b-04e1b37bd558"
      },
      "execution_count": 21,
      "outputs": [
        {
          "output_type": "stream",
          "name": "stdout",
          "text": [
            "File Content:\n",
            " \n",
            "This is a new line appended to the file.\n"
          ]
        }
      ]
    },
    {
      "cell_type": "markdown",
      "source": [
        "23.Write a Python program that writes to a log file when an error occurs during file handling.\n"
      ],
      "metadata": {
        "id": "S7nUumSN84AO"
      }
    },
    {
      "cell_type": "code",
      "source": [
        "import logging\n",
        "from logging.handlers import RotatingFileHandler\n",
        "\n",
        "def setup_logging():\n",
        "    log_file = \"app.log\"\n",
        "    log_handler = RotatingFileHandler(log_file, maxBytes=1_000_000, backupCount=3)\n",
        "    logging.basicConfig(\n",
        "        level=logging.ERROR,\n",
        "        format=\"%(asctime)s - %(levelname)s - %(message)s\",\n",
        "        handlers=[log_handler]\n",
        "    )\n",
        "\n",
        "def write_to_file(file_path, content):\n",
        "    try:\n",
        "        with open(file_path, 'w') as file:\n",
        "            file.write(content)\n",
        "            print(\"Content written successfully.\")\n",
        "    except Exception as e:\n",
        "        logging.error(f\"An error occurred while writing to {file_path}: {e}\")\n",
        "        print(\"An error occurred. Check the log file for details.\")\n",
        "\n",
        "def read_file(file_path):\n",
        "    try:\n",
        "        with open(file_path, 'r') as file:\n",
        "            content = file.read()\n",
        "            print(\"File Content:\\n\", content)\n",
        "    except FileNotFoundError:\n",
        "        logging.error(f\"Error: The file '{file_path}' was not found.\")\n",
        "        print(\"Error: The file was not found.\")\n",
        "    except Exception as e:\n",
        "        logging.error(f\"An error occurred while reading {file_path}: {e}\")\n",
        "        print(\"An error occurred. Check the log file for details.\")\n",
        "\n",
        "# Setup logging\n",
        "setup_logging()\n",
        "\n",
        "# Example usage\n",
        "file_path = \"example.txt\"  # Change this to your desired file path\n",
        "write_to_file(file_path, \"This is an example content.\")\n",
        "read_file(file_path)"
      ],
      "metadata": {
        "colab": {
          "base_uri": "https://localhost:8080/"
        },
        "id": "IuLSSDl_8-Es",
        "outputId": "24533329-cd83-4540-9bd0-71523f8c31a0"
      },
      "execution_count": 22,
      "outputs": [
        {
          "output_type": "stream",
          "name": "stdout",
          "text": [
            "Content written successfully.\n",
            "File Content:\n",
            " This is an example content.\n"
          ]
        }
      ]
    },
    {
      "cell_type": "markdown",
      "source": [],
      "metadata": {
        "id": "wOqSaOZf6xlY"
      }
    }
  ]
}